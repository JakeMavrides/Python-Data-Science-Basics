{
  "cells": [
    {
      "cell_type": "markdown",
      "id": "6aa90691",
      "metadata": {
        "id": "6aa90691"
      },
      "source": [
        "# Name: Jake Mavrides\n",
        "\n",
        "### (Optional) Feedback/where I ran into trouble/etc. - "
      ]
    },
    {
      "cell_type": "markdown",
      "id": "949f0994",
      "metadata": {
        "id": "949f0994"
      },
      "source": [
        "In this assignment, you will be taking a closer look at the Autoencoder we discussed in lecture."
      ]
    },
    {
      "cell_type": "code",
      "execution_count": null,
      "id": "f2c362cf",
      "metadata": {
        "id": "f2c362cf"
      },
      "outputs": [],
      "source": [
        "import pandas as pd\n",
        "import numpy as np\n",
        "import pickle\n",
        "import matplotlib.pyplot as plt\n",
        "from scipy import stats\n",
        "import seaborn as sns\n",
        "from matplotlib import rcParams\n",
        "from sklearn.model_selection import train_test_split\n",
        "from keras.models import Model, load_model\n",
        "from keras.layers import Input, Dense\n",
        "from keras.callbacks import ModelCheckpoint, TensorBoard\n",
        "from keras import regularizers\n",
        "%matplotlib inline\n",
        "sns.set(style='whitegrid', palette='muted', font_scale=1.5)\n",
        "rcParams['figure.figsize'] = 14, 8"
      ]
    },
    {
      "cell_type": "markdown",
      "id": "474e3deb",
      "metadata": {
        "id": "474e3deb"
      },
      "source": [
        "Dataset originally from Kaggle https://www.kaggle.com/dalpozz/creditcardfraud\n",
        "\n",
        "Additional Notes and References:\n",
        "1. https://medium.com/@curiousily/credit-card-fraud-detection-using-autoencoders-in-keras-tensorflow-for-hackers-part-vii-20e0c85301bd"
      ]
    },
    {
      "cell_type": "code",
      "execution_count": null,
      "id": "1d734956",
      "metadata": {
        "colab": {
          "base_uri": "https://localhost:8080/"
        },
        "id": "1d734956",
        "outputId": "12f656be-0cc1-4c1c-d117-2802634ee5fe"
      },
      "outputs": [
        {
          "output_type": "stream",
          "name": "stdout",
          "text": [
            "----------------------------\n",
            "fraud data\n",
            "count      56.000000\n",
            "mean       90.815893\n",
            "std       310.308450\n",
            "min         0.000000\n",
            "25%         1.000000\n",
            "50%         1.000000\n",
            "75%         1.025000\n",
            "max      1809.680000\n",
            "Name: Amount, dtype: float64\n",
            "----------------------------\n",
            "----------------------------\n",
            "non-fraud data\n",
            "count    13897.000000\n",
            "mean        63.773909\n",
            "std        177.164503\n",
            "min          0.000000\n",
            "25%          5.770000\n",
            "50%         15.900000\n",
            "75%         52.370000\n",
            "max       7712.430000\n",
            "Name: Amount, dtype: float64\n",
            "----------------------------\n"
          ]
        }
      ],
      "source": [
        "df = pd.read_csv(\"creditcard.csv\")\n",
        "frauds = df[df.Class == 1]\n",
        "normal = df[df.Class == 0]\n",
        "print('----------------------------')\n",
        "print('fraud data')\n",
        "print(frauds.Amount.describe())\n",
        "print('----------------------------')\n",
        "print('----------------------------')\n",
        "print('non-fraud data')\n",
        "print(normal.Amount.describe())\n",
        "print('----------------------------')"
      ]
    },
    {
      "cell_type": "code",
      "execution_count": null,
      "id": "026044e5",
      "metadata": {
        "id": "026044e5"
      },
      "outputs": [],
      "source": [
        "from sklearn.preprocessing import StandardScaler\n",
        "# disregard the time column, probably won't affect our data predictions\n",
        "df = df.drop(['Time'], axis=1)\n",
        "# the type of model we will look at likes values to be between -1 and 1 for normalization purposes\n",
        "df['Amount'] = StandardScaler().fit_transform(df['Amount'].values.reshape(-1, 1))\n",
        "# train, test, and split the data with a test size of 25%\n",
        "X_train, X_test = train_test_split(df, test_size=0.25, random_state=13)\n",
        "# train on the values that are not fraudulent \n",
        "X_train = X_train[X_train.Class == 0]\n",
        "X_train = X_train.drop(['Class'], axis=1)\n",
        "y_test = X_test['Class']\n",
        "X_test = X_test.drop(['Class'], axis=1)\n",
        "X_train = X_train.values\n",
        "X_test = X_test.values"
      ]
    },
    {
      "cell_type": "markdown",
      "id": "dbd4f2bc",
      "metadata": {
        "id": "dbd4f2bc"
      },
      "source": [
        "![./ad-data/autoencoder.png](attachment:autoencoder.png)"
      ]
    },
    {
      "cell_type": "code",
      "execution_count": null,
      "id": "0a3fa955",
      "metadata": {
        "id": "0a3fa955"
      },
      "outputs": [],
      "source": [
        "input_dim = X_train.shape[1]\n",
        "# build an autoencoder with 2 encode layers and 2 decode layers\n",
        "\n",
        "# input layer: input_dim nodes\n",
        "input_layer = Input(shape=(input_dim, ))\n",
        "\n",
        "# encode layer 1: 14 nodes, tanh activation, ll regularizer with 10e-5\n",
        "encode_layer = Dense(14, activation='tanh', activity_regularizer=regularizers.l1(10e-5))(input_layer)\n",
        "\n",
        "# encode layer 2: 7 nodes, relu activation\n",
        "encode_layer = Dense(7, activation='relu')(encode_layer)\n",
        "\n",
        "# decode layer 1: 7 nodes, tanh activation\n",
        "decode_layer = Dense(7, activation='tanh')(encode_layer)\n",
        "# decode layer 2: input_dim nodes, relu activation\n",
        "decode_layer = Dense(input_dim, activation='relu')(decode_layer)\n",
        "\n",
        "# create the autoencoder model\n",
        "autoencoder = Model(inputs=input_layer, outputs=decode_layer)"
      ]
    },
    {
      "cell_type": "code",
      "execution_count": null,
      "id": "aad719d8",
      "metadata": {
        "colab": {
          "base_uri": "https://localhost:8080/"
        },
        "id": "aad719d8",
        "outputId": "c0b3b205-e657-4bec-e324-be5e0e90a3a4"
      },
      "outputs": [
        {
          "output_type": "stream",
          "name": "stdout",
          "text": [
            "Epoch 1/100\n",
            "326/326 [==============================] - 3s 4ms/step - loss: 0.7387 - accuracy: 0.7704 - val_loss: 0.8645 - val_accuracy: 0.7455\n",
            "Epoch 2/100\n",
            "326/326 [==============================] - 1s 3ms/step - loss: 0.7383 - accuracy: 0.7705 - val_loss: 0.8640 - val_accuracy: 0.7521\n",
            "Epoch 3/100\n",
            "326/326 [==============================] - 1s 3ms/step - loss: 0.7386 - accuracy: 0.7744 - val_loss: 0.8638 - val_accuracy: 0.7501\n",
            "Epoch 4/100\n",
            "326/326 [==============================] - 1s 4ms/step - loss: 0.7384 - accuracy: 0.7732 - val_loss: 0.8629 - val_accuracy: 0.7506\n",
            "Epoch 5/100\n",
            "326/326 [==============================] - 1s 3ms/step - loss: 0.7379 - accuracy: 0.7747 - val_loss: 0.8630 - val_accuracy: 0.7452\n",
            "Epoch 6/100\n",
            "326/326 [==============================] - 1s 3ms/step - loss: 0.7380 - accuracy: 0.7726 - val_loss: 0.8624 - val_accuracy: 0.7498\n",
            "Epoch 7/100\n",
            "326/326 [==============================] - 1s 4ms/step - loss: 0.7374 - accuracy: 0.7699 - val_loss: 0.8625 - val_accuracy: 0.7463\n",
            "Epoch 8/100\n",
            "326/326 [==============================] - 2s 5ms/step - loss: 0.7375 - accuracy: 0.7711 - val_loss: 0.8627 - val_accuracy: 0.7527\n",
            "Epoch 9/100\n",
            "326/326 [==============================] - 1s 4ms/step - loss: 0.7373 - accuracy: 0.7707 - val_loss: 0.8620 - val_accuracy: 0.7509\n",
            "Epoch 10/100\n",
            "326/326 [==============================] - 1s 3ms/step - loss: 0.7372 - accuracy: 0.7699 - val_loss: 0.8631 - val_accuracy: 0.7400\n",
            "Epoch 11/100\n",
            "326/326 [==============================] - 1s 3ms/step - loss: 0.7372 - accuracy: 0.7700 - val_loss: 0.8625 - val_accuracy: 0.7515\n",
            "Epoch 12/100\n",
            "326/326 [==============================] - 1s 3ms/step - loss: 0.7373 - accuracy: 0.7732 - val_loss: 0.8620 - val_accuracy: 0.7478\n",
            "Epoch 13/100\n",
            "326/326 [==============================] - 1s 3ms/step - loss: 0.7369 - accuracy: 0.7737 - val_loss: 0.8635 - val_accuracy: 0.7458\n",
            "Epoch 14/100\n",
            "326/326 [==============================] - 2s 5ms/step - loss: 0.7368 - accuracy: 0.7724 - val_loss: 0.8627 - val_accuracy: 0.7527\n",
            "Epoch 15/100\n",
            "326/326 [==============================] - 2s 6ms/step - loss: 0.7374 - accuracy: 0.7697 - val_loss: 0.8612 - val_accuracy: 0.7504\n",
            "Epoch 16/100\n",
            "326/326 [==============================] - 1s 4ms/step - loss: 0.7364 - accuracy: 0.7724 - val_loss: 0.8613 - val_accuracy: 0.7478\n",
            "Epoch 17/100\n",
            "326/326 [==============================] - 2s 7ms/step - loss: 0.7367 - accuracy: 0.7734 - val_loss: 0.8617 - val_accuracy: 0.7478\n",
            "Epoch 18/100\n",
            "326/326 [==============================] - 2s 6ms/step - loss: 0.7363 - accuracy: 0.7727 - val_loss: 0.8609 - val_accuracy: 0.7504\n",
            "Epoch 19/100\n",
            "326/326 [==============================] - 2s 6ms/step - loss: 0.7366 - accuracy: 0.7744 - val_loss: 0.8608 - val_accuracy: 0.7492\n",
            "Epoch 20/100\n",
            "326/326 [==============================] - 1s 3ms/step - loss: 0.7360 - accuracy: 0.7714 - val_loss: 0.8603 - val_accuracy: 0.7538\n",
            "Epoch 21/100\n",
            "326/326 [==============================] - 1s 3ms/step - loss: 0.7363 - accuracy: 0.7705 - val_loss: 0.8607 - val_accuracy: 0.7389\n",
            "Epoch 22/100\n",
            "326/326 [==============================] - 1s 3ms/step - loss: 0.7362 - accuracy: 0.7700 - val_loss: 0.8608 - val_accuracy: 0.7595\n",
            "Epoch 23/100\n",
            "326/326 [==============================] - 2s 5ms/step - loss: 0.7360 - accuracy: 0.7713 - val_loss: 0.8596 - val_accuracy: 0.7564\n",
            "Epoch 24/100\n",
            "326/326 [==============================] - 1s 4ms/step - loss: 0.7360 - accuracy: 0.7744 - val_loss: 0.8598 - val_accuracy: 0.7515\n",
            "Epoch 25/100\n",
            "326/326 [==============================] - 1s 3ms/step - loss: 0.7363 - accuracy: 0.7751 - val_loss: 0.8602 - val_accuracy: 0.7515\n",
            "Epoch 26/100\n",
            "326/326 [==============================] - 2s 5ms/step - loss: 0.7359 - accuracy: 0.7714 - val_loss: 0.8603 - val_accuracy: 0.7463\n",
            "Epoch 27/100\n",
            "326/326 [==============================] - 2s 5ms/step - loss: 0.7355 - accuracy: 0.7712 - val_loss: 0.8606 - val_accuracy: 0.7389\n",
            "Epoch 28/100\n",
            "326/326 [==============================] - 1s 3ms/step - loss: 0.7359 - accuracy: 0.7713 - val_loss: 0.8618 - val_accuracy: 0.7461\n",
            "Epoch 29/100\n",
            "326/326 [==============================] - 1s 3ms/step - loss: 0.7352 - accuracy: 0.7701 - val_loss: 0.8595 - val_accuracy: 0.7527\n",
            "Epoch 30/100\n",
            "326/326 [==============================] - 1s 3ms/step - loss: 0.7352 - accuracy: 0.7711 - val_loss: 0.8599 - val_accuracy: 0.7501\n",
            "Epoch 31/100\n",
            "326/326 [==============================] - 1s 4ms/step - loss: 0.7352 - accuracy: 0.7734 - val_loss: 0.8588 - val_accuracy: 0.7495\n",
            "Epoch 32/100\n",
            "326/326 [==============================] - 1s 4ms/step - loss: 0.7353 - accuracy: 0.7724 - val_loss: 0.8596 - val_accuracy: 0.7506\n",
            "Epoch 33/100\n",
            "326/326 [==============================] - 1s 4ms/step - loss: 0.7351 - accuracy: 0.7738 - val_loss: 0.8596 - val_accuracy: 0.7549\n",
            "Epoch 34/100\n",
            "326/326 [==============================] - 2s 6ms/step - loss: 0.7348 - accuracy: 0.7751 - val_loss: 0.8595 - val_accuracy: 0.7504\n",
            "Epoch 35/100\n",
            "326/326 [==============================] - 1s 3ms/step - loss: 0.7350 - accuracy: 0.7745 - val_loss: 0.8587 - val_accuracy: 0.7475\n",
            "Epoch 36/100\n",
            "326/326 [==============================] - 1s 4ms/step - loss: 0.7346 - accuracy: 0.7754 - val_loss: 0.8598 - val_accuracy: 0.7481\n",
            "Epoch 37/100\n",
            "326/326 [==============================] - 2s 5ms/step - loss: 0.7350 - accuracy: 0.7744 - val_loss: 0.8617 - val_accuracy: 0.7518\n",
            "Epoch 38/100\n",
            "326/326 [==============================] - 1s 3ms/step - loss: 0.7347 - accuracy: 0.7758 - val_loss: 0.8589 - val_accuracy: 0.7552\n",
            "Epoch 39/100\n",
            "326/326 [==============================] - 1s 3ms/step - loss: 0.7345 - accuracy: 0.7736 - val_loss: 0.8595 - val_accuracy: 0.7604\n",
            "Epoch 40/100\n",
            "326/326 [==============================] - 1s 3ms/step - loss: 0.7345 - accuracy: 0.7748 - val_loss: 0.8592 - val_accuracy: 0.7472\n",
            "Epoch 41/100\n",
            "326/326 [==============================] - 1s 3ms/step - loss: 0.7342 - accuracy: 0.7712 - val_loss: 0.8584 - val_accuracy: 0.7504\n",
            "Epoch 42/100\n",
            "326/326 [==============================] - 1s 4ms/step - loss: 0.7345 - accuracy: 0.7754 - val_loss: 0.8591 - val_accuracy: 0.7509\n",
            "Epoch 43/100\n",
            "326/326 [==============================] - 1s 3ms/step - loss: 0.7343 - accuracy: 0.7743 - val_loss: 0.8580 - val_accuracy: 0.7458\n",
            "Epoch 44/100\n",
            "326/326 [==============================] - 1s 3ms/step - loss: 0.7339 - accuracy: 0.7722 - val_loss: 0.8594 - val_accuracy: 0.7498\n",
            "Epoch 45/100\n",
            "326/326 [==============================] - 1s 3ms/step - loss: 0.7340 - accuracy: 0.7749 - val_loss: 0.8580 - val_accuracy: 0.7515\n",
            "Epoch 46/100\n",
            "326/326 [==============================] - 1s 3ms/step - loss: 0.7341 - accuracy: 0.7759 - val_loss: 0.8579 - val_accuracy: 0.7458\n",
            "Epoch 47/100\n",
            "326/326 [==============================] - 1s 3ms/step - loss: 0.7338 - accuracy: 0.7738 - val_loss: 0.8585 - val_accuracy: 0.7418\n",
            "Epoch 48/100\n",
            "326/326 [==============================] - 1s 4ms/step - loss: 0.7338 - accuracy: 0.7737 - val_loss: 0.8592 - val_accuracy: 0.7501\n",
            "Epoch 49/100\n",
            "326/326 [==============================] - 2s 5ms/step - loss: 0.7338 - accuracy: 0.7748 - val_loss: 0.8590 - val_accuracy: 0.7532\n",
            "Epoch 50/100\n",
            "326/326 [==============================] - 1s 3ms/step - loss: 0.7339 - accuracy: 0.7753 - val_loss: 0.8582 - val_accuracy: 0.7469\n",
            "Epoch 51/100\n",
            "326/326 [==============================] - 1s 3ms/step - loss: 0.7335 - accuracy: 0.7731 - val_loss: 0.8579 - val_accuracy: 0.7512\n",
            "Epoch 52/100\n",
            "326/326 [==============================] - 1s 4ms/step - loss: 0.7334 - accuracy: 0.7771 - val_loss: 0.8579 - val_accuracy: 0.7495\n",
            "Epoch 53/100\n",
            "326/326 [==============================] - 1s 3ms/step - loss: 0.7335 - accuracy: 0.7738 - val_loss: 0.8589 - val_accuracy: 0.7461\n",
            "Epoch 54/100\n",
            "326/326 [==============================] - 1s 3ms/step - loss: 0.7334 - accuracy: 0.7743 - val_loss: 0.8585 - val_accuracy: 0.7498\n",
            "Epoch 55/100\n",
            "326/326 [==============================] - 1s 3ms/step - loss: 0.7333 - accuracy: 0.7746 - val_loss: 0.8577 - val_accuracy: 0.7504\n",
            "Epoch 56/100\n",
            "326/326 [==============================] - 1s 3ms/step - loss: 0.7333 - accuracy: 0.7708 - val_loss: 0.8579 - val_accuracy: 0.7446\n",
            "Epoch 57/100\n",
            "326/326 [==============================] - 1s 3ms/step - loss: 0.7332 - accuracy: 0.7744 - val_loss: 0.8575 - val_accuracy: 0.7495\n",
            "Epoch 58/100\n",
            "326/326 [==============================] - 1s 3ms/step - loss: 0.7337 - accuracy: 0.7748 - val_loss: 0.8588 - val_accuracy: 0.7527\n",
            "Epoch 59/100\n",
            "326/326 [==============================] - 1s 4ms/step - loss: 0.7333 - accuracy: 0.7755 - val_loss: 0.8584 - val_accuracy: 0.7438\n",
            "Epoch 60/100\n",
            "326/326 [==============================] - 2s 5ms/step - loss: 0.7331 - accuracy: 0.7722 - val_loss: 0.8572 - val_accuracy: 0.7552\n",
            "Epoch 61/100\n",
            "326/326 [==============================] - 1s 3ms/step - loss: 0.7330 - accuracy: 0.7749 - val_loss: 0.8579 - val_accuracy: 0.7423\n",
            "Epoch 62/100\n",
            "326/326 [==============================] - 1s 3ms/step - loss: 0.7334 - accuracy: 0.7773 - val_loss: 0.8585 - val_accuracy: 0.7532\n",
            "Epoch 63/100\n",
            "326/326 [==============================] - 1s 3ms/step - loss: 0.7331 - accuracy: 0.7724 - val_loss: 0.8582 - val_accuracy: 0.7429\n",
            "Epoch 64/100\n",
            "326/326 [==============================] - 1s 3ms/step - loss: 0.7328 - accuracy: 0.7745 - val_loss: 0.8573 - val_accuracy: 0.7532\n",
            "Epoch 65/100\n",
            "326/326 [==============================] - 2s 6ms/step - loss: 0.7325 - accuracy: 0.7729 - val_loss: 0.8584 - val_accuracy: 0.7595\n",
            "Epoch 66/100\n",
            "326/326 [==============================] - 2s 7ms/step - loss: 0.7331 - accuracy: 0.7740 - val_loss: 0.8578 - val_accuracy: 0.7466\n",
            "Epoch 67/100\n",
            "326/326 [==============================] - 1s 3ms/step - loss: 0.7327 - accuracy: 0.7743 - val_loss: 0.8587 - val_accuracy: 0.7398\n",
            "Epoch 68/100\n",
            "326/326 [==============================] - 1s 3ms/step - loss: 0.7328 - accuracy: 0.7748 - val_loss: 0.8580 - val_accuracy: 0.7529\n",
            "Epoch 69/100\n",
            "326/326 [==============================] - 2s 5ms/step - loss: 0.7324 - accuracy: 0.7740 - val_loss: 0.8578 - val_accuracy: 0.7524\n",
            "Epoch 70/100\n",
            "326/326 [==============================] - 1s 4ms/step - loss: 0.7324 - accuracy: 0.7748 - val_loss: 0.8581 - val_accuracy: 0.7529\n",
            "Epoch 71/100\n",
            "326/326 [==============================] - 1s 3ms/step - loss: 0.7325 - accuracy: 0.7728 - val_loss: 0.8589 - val_accuracy: 0.7547\n",
            "Epoch 72/100\n",
            "326/326 [==============================] - 1s 3ms/step - loss: 0.7326 - accuracy: 0.7753 - val_loss: 0.8581 - val_accuracy: 0.7552\n",
            "Epoch 73/100\n",
            "326/326 [==============================] - 1s 4ms/step - loss: 0.7327 - accuracy: 0.7754 - val_loss: 0.8578 - val_accuracy: 0.7524\n",
            "Epoch 74/100\n",
            "326/326 [==============================] - 1s 4ms/step - loss: 0.7320 - accuracy: 0.7761 - val_loss: 0.8571 - val_accuracy: 0.7481\n",
            "Epoch 75/100\n",
            "326/326 [==============================] - 1s 3ms/step - loss: 0.7323 - accuracy: 0.7768 - val_loss: 0.8583 - val_accuracy: 0.7443\n",
            "Epoch 76/100\n",
            "326/326 [==============================] - 1s 3ms/step - loss: 0.7322 - accuracy: 0.7746 - val_loss: 0.8578 - val_accuracy: 0.7581\n",
            "Epoch 77/100\n",
            "326/326 [==============================] - 1s 3ms/step - loss: 0.7321 - accuracy: 0.7748 - val_loss: 0.8560 - val_accuracy: 0.7478\n",
            "Epoch 78/100\n",
            "326/326 [==============================] - 1s 3ms/step - loss: 0.7319 - accuracy: 0.7762 - val_loss: 0.8583 - val_accuracy: 0.7590\n",
            "Epoch 79/100\n",
            "326/326 [==============================] - 1s 3ms/step - loss: 0.7323 - accuracy: 0.7757 - val_loss: 0.8594 - val_accuracy: 0.7478\n",
            "Epoch 80/100\n",
            "326/326 [==============================] - 2s 5ms/step - loss: 0.7324 - accuracy: 0.7724 - val_loss: 0.8583 - val_accuracy: 0.7501\n",
            "Epoch 81/100\n",
            "326/326 [==============================] - 1s 5ms/step - loss: 0.7326 - accuracy: 0.7748 - val_loss: 0.8578 - val_accuracy: 0.7524\n",
            "Epoch 82/100\n",
            "326/326 [==============================] - 1s 3ms/step - loss: 0.7320 - accuracy: 0.7738 - val_loss: 0.8572 - val_accuracy: 0.7558\n",
            "Epoch 83/100\n",
            "326/326 [==============================] - 1s 3ms/step - loss: 0.7320 - accuracy: 0.7782 - val_loss: 0.8580 - val_accuracy: 0.7498\n",
            "Epoch 84/100\n",
            "326/326 [==============================] - 1s 3ms/step - loss: 0.7321 - accuracy: 0.7802 - val_loss: 0.8573 - val_accuracy: 0.7627\n",
            "Epoch 85/100\n",
            "326/326 [==============================] - 1s 3ms/step - loss: 0.7318 - accuracy: 0.7728 - val_loss: 0.8567 - val_accuracy: 0.7547\n",
            "Epoch 86/100\n",
            "326/326 [==============================] - 1s 3ms/step - loss: 0.7319 - accuracy: 0.7758 - val_loss: 0.8573 - val_accuracy: 0.7538\n",
            "Epoch 87/100\n",
            "326/326 [==============================] - 1s 3ms/step - loss: 0.7317 - accuracy: 0.7741 - val_loss: 0.8581 - val_accuracy: 0.7561\n",
            "Epoch 88/100\n",
            "326/326 [==============================] - 1s 3ms/step - loss: 0.7315 - accuracy: 0.7730 - val_loss: 0.8566 - val_accuracy: 0.7461\n",
            "Epoch 89/100\n",
            "326/326 [==============================] - 1s 3ms/step - loss: 0.7315 - accuracy: 0.7768 - val_loss: 0.8582 - val_accuracy: 0.7484\n",
            "Epoch 90/100\n",
            "326/326 [==============================] - 1s 3ms/step - loss: 0.7315 - accuracy: 0.7740 - val_loss: 0.8565 - val_accuracy: 0.7552\n",
            "Epoch 91/100\n",
            "326/326 [==============================] - 1s 4ms/step - loss: 0.7314 - accuracy: 0.7763 - val_loss: 0.8578 - val_accuracy: 0.7449\n",
            "Epoch 92/100\n",
            "326/326 [==============================] - 2s 5ms/step - loss: 0.7314 - accuracy: 0.7788 - val_loss: 0.8573 - val_accuracy: 0.7521\n",
            "Epoch 93/100\n",
            "326/326 [==============================] - 1s 3ms/step - loss: 0.7323 - accuracy: 0.7783 - val_loss: 0.8551 - val_accuracy: 0.7498\n",
            "Epoch 94/100\n",
            "326/326 [==============================] - 1s 3ms/step - loss: 0.7313 - accuracy: 0.7795 - val_loss: 0.8588 - val_accuracy: 0.7478\n",
            "Epoch 95/100\n",
            "326/326 [==============================] - 2s 5ms/step - loss: 0.7313 - accuracy: 0.7765 - val_loss: 0.8562 - val_accuracy: 0.7618\n",
            "Epoch 96/100\n",
            "326/326 [==============================] - 2s 7ms/step - loss: 0.7316 - accuracy: 0.7764 - val_loss: 0.8551 - val_accuracy: 0.7504\n",
            "Epoch 97/100\n",
            "326/326 [==============================] - 2s 5ms/step - loss: 0.7314 - accuracy: 0.7725 - val_loss: 0.8561 - val_accuracy: 0.7492\n",
            "Epoch 98/100\n",
            "326/326 [==============================] - 2s 5ms/step - loss: 0.7315 - accuracy: 0.7797 - val_loss: 0.8559 - val_accuracy: 0.7581\n",
            "Epoch 99/100\n",
            "326/326 [==============================] - 3s 9ms/step - loss: 0.7320 - accuracy: 0.7779 - val_loss: 0.8552 - val_accuracy: 0.7509\n",
            "Epoch 100/100\n",
            "326/326 [==============================] - 1s 4ms/step - loss: 0.7310 - accuracy: 0.7773 - val_loss: 0.8562 - val_accuracy: 0.7446\n"
          ]
        }
      ],
      "source": [
        "# set the number of epochs to 100\n",
        "num_epochs = 100\n",
        "\n",
        "# set the batch size to 32\n",
        "batch_size = 32\n",
        "\n",
        "# compile the autoencoder using the Nadam optimizer, MSE loss, and set metrics to 'accuracy'\n",
        "autoencoder.compile(optimizer='Nadam', loss='mean_squared_error', metrics=['accuracy'])\n",
        "\n",
        "# create snapshots and save it to 'model.h5'\n",
        "snapshots = ModelCheckpoint(filepath='model.h5', verbose=0, save_best_only=True)\n",
        "\n",
        "# create a tensorboard and set the log directory to 'logs'\n",
        "tensorboard = TensorBoard(log_dir='logs', write_graph=True, write_images=True)\n",
        "\n",
        "# train the model\n",
        "history = autoencoder.fit(X_train, X_train, batch_size=batch_size, epochs=num_epochs, shuffle=True, validation_data=(X_test, X_test), verbose=1, callbacks=[snapshots, tensorboard]).history"
      ]
    },
    {
      "cell_type": "code",
      "execution_count": null,
      "id": "5d6fd554",
      "metadata": {
        "colab": {
          "base_uri": "https://localhost:8080/"
        },
        "id": "5d6fd554",
        "outputId": "af4d7ef3-928b-4bcd-bdc1-b3668cc84ca2"
      },
      "outputs": [
        {
          "output_type": "stream",
          "name": "stdout",
          "text": [
            "110/110 [==============================] - 0s 2ms/step\n"
          ]
        }
      ],
      "source": [
        "# load the current state of the model\n",
        "autoencoder = load_model('/content/model.h5')\n",
        "# make predictions on the test data\n",
        "predictions = autoencoder.predict(X_test)\n",
        "# compute the mean squared error\n",
        "mse = np.mean(np.power(X_test - predictions, 2), axis=1)\n",
        "# save this into a dataframe for later comparison\n",
        "error_df = pd.DataFrame({'reconstruction_error': mse,'true_class': y_test})\n",
        "normal_error_df = error_df[(error_df['true_class']== 0) & (error_df['reconstruction_error'] < 10)]\n",
        "fraud_error_df = error_df[error_df['true_class'] == 1]"
      ]
    },
    {
      "cell_type": "code",
      "execution_count": null,
      "id": "52b1f7cf",
      "metadata": {
        "colab": {
          "base_uri": "https://localhost:8080/",
          "height": 535
        },
        "id": "52b1f7cf",
        "outputId": "b0572779-664d-467f-ba81-639a4042769c"
      },
      "outputs": [
        {
          "output_type": "display_data",
          "data": {
            "text/plain": [
              "<Figure size 1008x576 with 1 Axes>"
            ],
            "image/png": "[encoded data removed]"
          },
          "metadata": {}
        }
      ],
      "source": [
        "# visualize the results in the form of a scatterplot and pinpoint the outliers\n",
        "# play with the parameters of the plot to create a different 'look' than the one in lecture :)  \n",
        "threshold = 1\n",
        "groups = error_df.groupby('true_class')\n",
        "fig, ax = plt.subplots()\n",
        "for name, group in groups:\n",
        "    # change these parameters in ax.plot(...)\n",
        "    ax.plot(group.index, group.reconstruction_error, marker='*', ms=5, linestyle='',\n",
        "            label= \"Fraud\" if name == 1 else \"Normal\")\n",
        "ax.hlines(threshold, ax.get_xlim()[0], ax.get_xlim()[1], colors=\"m\", zorder=100, label='Threshold')\n",
        "ax.legend()\n",
        "plt.title(\"Reconstruction error for different classes\")\n",
        "plt.ylabel(\"Reconstruction error\")\n",
        "plt.xlabel(\"Data point index\")\n",
        "plt.show();"
      ]
    },
    {
      "cell_type": "code",
      "execution_count": null,
      "id": "87e7aa09",
      "metadata": {
        "colab": {
          "base_uri": "https://localhost:8080/",
          "height": 753
        },
        "id": "87e7aa09",
        "outputId": "817db3af-1d51-487f-df82-912273eac550"
      },
      "outputs": [
        {
          "output_type": "display_data",
          "data": {
            "text/plain": [
              "<Figure size 864x864 with 2 Axes>"
            ],
            "image/png": "[encoded data removed]"
          },
          "metadata": {}
        }
      ],
      "source": [
        "# visualize the results in relation to the original data\n",
        "from sklearn.metrics import confusion_matrix\n",
        "y_pred = [1 if e > threshold else 0 for e in error_df.reconstruction_error.values]\n",
        "conf_matrix = confusion_matrix(error_df.true_class, y_pred)\n",
        "plt.figure(figsize=(12, 12))\n",
        "sns.heatmap(conf_matrix, xticklabels=[\"Normal\", \"Fraud\"], yticklabels=[\"Normal\", \"Fraud\"], annot=True, fmt=\"d\");\n",
        "plt.title(\"Confusion matrix\")\n",
        "plt.ylabel('True class')\n",
        "plt.xlabel('Predicted class')\n",
        "plt.show()"
      ]
    },
    {
      "cell_type": "markdown",
      "id": "4ea90d1c",
      "metadata": {
        "id": "4ea90d1c"
      },
      "source": [
        "#### Q1: Why is a neural network a good option for anomaly detection? \n",
        "Neural networks are a good choice for dealing with large datasets, and are especially good at detecting outliers in data, even if the reason behind the outlier is unknown (due to the learning's nature to create and detect connections within data that we could never identify manually).\n",
        "\n",
        "#### Q2: Does increasing the number of layers speed up training time?\n",
        "No, if anything, more layers increases the time to train.\n",
        "\n",
        "#### Q3: Does significantly increasing the number of epochs have a 'large' affect on the accuracy in this example? Justify your reponse.\n",
        "It depends on the definition of 'large' and 'significantly increasing'. However, I increased the number of epochs from 10 to 100 and recreated the heatmap. The number of 'frauds predicted as normal' and 'frauds as fraud' was unchanged. The number of 'normal predicted as fraud' increased by a little over 2%, which I would not consider a 'large' affect.\n",
        "\n",
        "#### Q4: Name three optimizers other than Nadam and Adam that can be passed into `Model.compile()`\n",
        "SGD (Stochastic Gradient Descent), AdamW, and AdaDelta.\n",
        "\n",
        "#### Q5: Does increasing the number of batch size always improve the prediction accuracy? Why or why not?\n",
        "No, using a batch size that is too large could lead to overfitting of your data and its trends. \n",
        "\n",
        "#### Q6: Play with the threshold. What's the best number you think for our model? Justify your answer.\n",
        "It depends on if we define our optimal threshold to be as close to an accurate predictor as possible, or to minimize non-informative predictions. Playing around with the values, it appears a threshold of around 7 is optimal (for our data), as it increases the number of 'normals detected as normal' without leading to any loss of incorrect predictions. Because we are dealing with credit card fraud, however, a 'better safe than sorry' approach is more practical. Because of this I believe a more generous threshold is optimal if we are applying our model to unknown data/in the real world. ex: a lower threshold such as 1 so as to increase our 'safety net' of detection, as a false-fraudulent detection is not a big deal, but a false-normal detection is."
      ]
    }
  ],
  "metadata": {
    "kernelspec": {
      "display_name": "Python 3 (ipykernel)",
      "language": "python",
      "name": "python3"
    },
    "language_info": {
      "codemirror_mode": {
        "name": "ipython",
        "version": 3
      },
      "file_extension": ".py",
      "mimetype": "text/x-python",
      "name": "python",
      "nbconvert_exporter": "python",
      "pygments_lexer": "ipython3",
      "version": "3.9.12"
    },
    "colab": {
      "provenance": []
    }
  },
  "nbformat": 4,
  "nbformat_minor": 5
}