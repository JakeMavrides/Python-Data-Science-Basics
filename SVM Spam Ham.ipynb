{
  "cells": [
    {
      "cell_type": "markdown",
      "id": "6aa90691",
      "metadata": {
        "id": "6aa90691"
      },
      "source": [
        "# Name: Jake Mavrides\n",
        "\n",
        "### (Optional) Feedback/where I ran into trouble/etc. - "
      ]
    },
    {
      "cell_type": "markdown",
      "id": "949f0994",
      "metadata": {
        "id": "949f0994"
      },
      "source": [
        "In this assignment, you will be taking a closer look at the Spam Classifier we discussed in lecture."
      ]
    },
    {
      "cell_type": "code",
      "execution_count": null,
      "id": "2b7763d5",
      "metadata": {
        "id": "2b7763d5"
      },
      "outputs": [],
      "source": [
        "# plotting\n",
        "import matplotlib.pyplot as plt\n",
        "# pandas\n",
        "import pandas as pd\n",
        "# sklearn for accessing ML operations and SVM algorithm\n",
        "from sklearn.model_selection import train_test_split\n",
        "from sklearn.feature_extraction.text import CountVectorizer\n",
        "from sklearn import svm"
      ]
    },
    {
      "cell_type": "markdown",
      "id": "a6c367ad",
      "metadata": {
        "id": "a6c367ad"
      },
      "source": [
        "Spam dataset courtesy of UCI :D https://www.kaggle.com/uciml/sms-spam-collection-dataset/\n",
        "\n",
        "Additional Notes and References:\n",
        "1. https://blog.logrocket.com/email-spam-detector-python-machine-learning/\n",
        "2. https://github.com/tejank10/Spam-or-Ham/blob/master/spam_ham.ipynb"
      ]
    },
    {
      "cell_type": "code",
      "execution_count": null,
      "id": "0e96a26e",
      "metadata": {
        "colab": {
          "base_uri": "https://localhost:8080/",
          "height": 206
        },
        "id": "0e96a26e",
        "outputId": "119b6c69-55ee-425d-d208-7326bedc1866"
      },
      "outputs": [
        {
          "output_type": "execute_result",
          "data": {
            "text/plain": [
              "     v1                                                 v2\n",
              "0   ham  Go until jurong point, crazy.. Available only ...\n",
              "1   ham                      Ok lar... Joking wif u oni...\n",
              "2  spam  Free entry in 2 a wkly comp to win FA Cup fina...\n",
              "3   ham  U dun say so early hor... U c already then say...\n",
              "4   ham  Nah I don't think he goes to usf, he lives aro..."
            ],
            "text/html": [
              "\n",
              "  <div id=\"df-c74b6fa9-7f85-43fc-b139-a57b4124399a\">\n",
              "    <div class=\"colab-df-container\">\n",
              "      <div>\n",
              "<style scoped>\n",
              "    .dataframe tbody tr th:only-of-type {\n",
              "        vertical-align: middle;\n",
              "    }\n",
              "\n",
              "    .dataframe tbody tr th {\n",
              "        vertical-align: top;\n",
              "    }\n",
              "\n",
              "    .dataframe thead th {\n",
              "        text-align: right;\n",
              "    }\n",
              "</style>\n",
              "<table border=\"1\" class=\"dataframe\">\n",
              "  <thead>\n",
              "    <tr style=\"text-align: right;\">\n",
              "      <th></th>\n",
              "      <th>v1</th>\n",
              "      <th>v2</th>\n",
              "    </tr>\n",
              "  </thead>\n",
              "  <tbody>\n",
              "    <tr>\n",
              "      <th>0</th>\n",
              "      <td>ham</td>\n",
              "      <td>Go until jurong point, crazy.. Available only ...</td>\n",
              "    </tr>\n",
              "    <tr>\n",
              "      <th>1</th>\n",
              "      <td>ham</td>\n",
              "      <td>Ok lar... Joking wif u oni...</td>\n",
              "    </tr>\n",
              "    <tr>\n",
              "      <th>2</th>\n",
              "      <td>spam</td>\n",
              "      <td>Free entry in 2 a wkly comp to win FA Cup fina...</td>\n",
              "    </tr>\n",
              "    <tr>\n",
              "      <th>3</th>\n",
              "      <td>ham</td>\n",
              "      <td>U dun say so early hor... U c already then say...</td>\n",
              "    </tr>\n",
              "    <tr>\n",
              "      <th>4</th>\n",
              "      <td>ham</td>\n",
              "      <td>Nah I don't think he goes to usf, he lives aro...</td>\n",
              "    </tr>\n",
              "  </tbody>\n",
              "</table>\n",
              "</div>\n",
              "      <button class=\"colab-df-convert\" onclick=\"convertToInteractive('df-c74b6fa9-7f85-43fc-b139-a57b4124399a')\"\n",
              "              title=\"Convert this dataframe to an interactive table.\"\n",
              "              style=\"display:none;\">\n",
              "        \n",
              "  <svg xmlns=\"http://www.w3.org/2000/svg\" height=\"24px\"viewBox=\"0 0 24 24\"\n",
              "       width=\"24px\">\n",
              "    <path d=\"M0 0h24v24H0V0z\" fill=\"none\"/>\n",
              "    <path d=\"M18.56 5.44l.94 2.06.94-2.06 2.06-.94-2.06-.94-.94-2.06-.94 2.06-2.06.94zm-11 1L8.5 8.5l.94-2.06 2.06-.94-2.06-.94L8.5 2.5l-.94 2.06-2.06.94zm10 10l.94 2.06.94-2.06 2.06-.94-2.06-.94-.94-2.06-.94 2.06-2.06.94z\"/><path d=\"M17.41 7.96l-1.37-1.37c-.4-.4-.92-.59-1.43-.59-.52 0-1.04.2-1.43.59L10.3 9.45l-7.72 7.72c-.78.78-.78 2.05 0 2.83L4 21.41c.39.39.9.59 1.41.59.51 0 1.02-.2 1.41-.59l7.78-7.78 2.81-2.81c.8-.78.8-2.07 0-2.86zM5.41 20L4 18.59l7.72-7.72 1.47 1.35L5.41 20z\"/>\n",
              "  </svg>\n",
              "      </button>\n",
              "      \n",
              "  <style>\n",
              "    .colab-df-container {\n",
              "      display:flex;\n",
              "      flex-wrap:wrap;\n",
              "      gap: 12px;\n",
              "    }\n",
              "\n",
              "    .colab-df-convert {\n",
              "      background-color: #E8F0FE;\n",
              "      border: none;\n",
              "      border-radius: 50%;\n",
              "      cursor: pointer;\n",
              "      display: none;\n",
              "      fill: #1967D2;\n",
              "      height: 32px;\n",
              "      padding: 0 0 0 0;\n",
              "      width: 32px;\n",
              "    }\n",
              "\n",
              "    .colab-df-convert:hover {\n",
              "      background-color: #E2EBFA;\n",
              "      box-shadow: 0px 1px 2px rgba(60, 64, 67, 0.3), 0px 1px 3px 1px rgba(60, 64, 67, 0.15);\n",
              "      fill: #174EA6;\n",
              "    }\n",
              "\n",
              "    [theme=dark] .colab-df-convert {\n",
              "      background-color: #3B4455;\n",
              "      fill: #D2E3FC;\n",
              "    }\n",
              "\n",
              "    [theme=dark] .colab-df-convert:hover {\n",
              "      background-color: #434B5C;\n",
              "      box-shadow: 0px 1px 3px 1px rgba(0, 0, 0, 0.15);\n",
              "      filter: drop-shadow(0px 1px 2px rgba(0, 0, 0, 0.3));\n",
              "      fill: #FFFFFF;\n",
              "    }\n",
              "  </style>\n",
              "\n",
              "      <script>\n",
              "        const buttonEl =\n",
              "          document.querySelector('#df-c74b6fa9-7f85-43fc-b139-a57b4124399a button.colab-df-convert');\n",
              "        buttonEl.style.display =\n",
              "          google.colab.kernel.accessAllowed ? 'block' : 'none';\n",
              "\n",
              "        async function convertToInteractive(key) {\n",
              "          const element = document.querySelector('#df-c74b6fa9-7f85-43fc-b139-a57b4124399a');\n",
              "          const dataTable =\n",
              "            await google.colab.kernel.invokeFunction('convertToInteractive',\n",
              "                                                     [key], {});\n",
              "          if (!dataTable) return;\n",
              "\n",
              "          const docLinkHtml = 'Like what you see? Visit the ' +\n",
              "            '<a target=\"_blank\" href=https://colab.research.google.com/notebooks/data_table.ipynb>data table notebook</a>'\n",
              "            + ' to learn more about interactive tables.';\n",
              "          element.innerHTML = '';\n",
              "          dataTable['output_type'] = 'display_data';\n",
              "          await google.colab.output.renderOutput(dataTable, element);\n",
              "          const docLink = document.createElement('div');\n",
              "          docLink.innerHTML = docLinkHtml;\n",
              "          element.appendChild(docLink);\n",
              "        }\n",
              "      </script>\n",
              "    </div>\n",
              "  </div>\n",
              "  "
            ]
          },
          "metadata": {},
          "execution_count": 4
        }
      ],
      "source": [
        "# load data into a pandas dataframe\n",
        "spam_df = pd.read_csv('spam.csv')\n",
        "# let's make it pretty...\n",
        "spam_df.drop(['Unnamed: 2', 'Unnamed: 3', 'Unnamed: 4'], axis = 1, inplace = True)\n",
        "spam_df.head()"
      ]
    },
    {
      "cell_type": "code",
      "execution_count": null,
      "id": "ec164132",
      "metadata": {
        "id": "ec164132"
      },
      "outputs": [],
      "source": [
        "# CODE SECTION 1\n",
        "# rename the v1 and v2 columns to 'label' and 'contents' respectively\n",
        "spam_df.rename(columns={'v1':'label', 'v2':'contents'}, inplace=True)"
      ]
    },
    {
      "cell_type": "code",
      "execution_count": null,
      "id": "6ec548ef",
      "metadata": {
        "colab": {
          "base_uri": "https://localhost:8080/"
        },
        "id": "6ec548ef",
        "outputId": "deb3f82d-55dd-4b13-9154-de6a96de6906"
      },
      "outputs": [
        {
          "output_type": "execute_result",
          "data": {
            "text/plain": [
              "0        ham\n",
              "1        ham\n",
              "2       spam\n",
              "3        ham\n",
              "4        ham\n",
              "        ... \n",
              "5567    spam\n",
              "5568     ham\n",
              "5569     ham\n",
              "5570     ham\n",
              "5571     ham\n",
              "Name: label, Length: 5572, dtype: object"
            ]
          },
          "metadata": {},
          "execution_count": 10
        }
      ],
      "source": [
        "# CODE SECTION 2\n",
        "# extract contents and ensure they are the same size\n",
        "contents = spam_df['contents']\n",
        "label = spam_df['label']\n",
        "assert(contents.shape == label.shape)\n",
        "label # should only show ham and spam in column"
      ]
    },
    {
      "cell_type": "code",
      "execution_count": null,
      "id": "0c2dea9c",
      "metadata": {
        "colab": {
          "base_uri": "https://localhost:8080/"
        },
        "id": "0c2dea9c",
        "outputId": "69d371a8-f1fa-4167-88a7-d02db784f30a"
      },
      "outputs": [
        {
          "output_type": "stream",
          "name": "stdout",
          "text": [
            "Test size percentage: 0.09\n",
            "Accuracy: 0.9701195219123506\n",
            "Test size percentage: 0.19\n",
            "Accuracy: 0.9754485363550519\n",
            "Test size percentage: 0.29\n",
            "Accuracy: 0.9801980198019802\n",
            "Test size percentage: 0.39\n",
            "Accuracy: 0.9825206991720331\n",
            "Test size percentage: 0.49\n",
            "Accuracy: 0.9787623581105822\n",
            "Test size percentage: 0.59\n",
            "Accuracy: 0.9717153284671532\n",
            "Test size percentage: 0.69\n",
            "Accuracy: 0.9677503250975292\n",
            "Test size percentage: 0.79\n",
            "Accuracy: 0.9631985461154021\n",
            "Test size percentage: 0.89\n",
            "Accuracy: 0.9245967741935484\n",
            "Test size percentage: 0.99\n",
            "Accuracy: 0.870763095885445\n"
          ]
        }
      ],
      "source": [
        "# CODE SECTION 3\n",
        "# train multiple SVM ML models using increments of 10% of test data from 9% to 99% (9%, 19%, 29%, ..., 99%)\n",
        "# after each iteration, print out the resulting statistics for test size used and accuracy of the model\n",
        "# e.g. Test size percentage: ??? and Accuracy: ???\n",
        "# hint: see the lecture notes from this week underneath the diagram of the SVM model\n",
        "for i in range(1,11): #Loop 10 times\n",
        "  testsize = -.01 + (.10 * i)\n",
        "  contents_train,contents_test,label_train,label_test = train_test_split(contents,label,test_size=testsize)\n",
        "  cv = CountVectorizer()\n",
        "  features=cv.fit_transform(contents_train)\n",
        "  model = svm.SVC()\n",
        "  model.fit(features,label_train)\n",
        "  features_test = cv.transform(contents_test)\n",
        "  print(\"Test size percentage: \" + str(round(testsize, 2)))\n",
        "  print(\"Accuracy: {}\".format(model.score(features_test,label_test)))"
      ]
    },
    {
      "cell_type": "markdown",
      "id": "030cc5eb",
      "metadata": {
        "id": "030cc5eb"
      },
      "source": [
        "### Q1: Based on the previous section, do you broadly see a relationship between test size and accuracy?\n",
        "I definitely see a relationship, but maybe not a definitive/very broad one.\n",
        "\n",
        "### Q2: Based on your answer in Q1, why do you think this is?\n",
        "I would've expected the larger and larger sample training size to yield higher and higher accuracy, but after seeing the results this is not the case. I suspect that this is because when we increase the sample training size, we're decreasing the testing size afterwards. In our example the balance appears to be closest to be around size=.39\n",
        "\n",
        "### Q3: The process of breaking a stream of text up into words, phrases, symbols, or other meaningful elements called tokens is usually referred to as ???\n",
        "Tokenization\n",
        "\n",
        "### Q4: The ??? function from the sklearn package was used to train the model with a percentage of the dataset.\n",
        "train_test_split\n",
        "\n",
        "### Q5: The SVM model is commonly used as a (1) supervised/unsupervised machine learning algorithm. For instance, in the Spam Classification problem, the data is (2) labeled/unlabeled.\n",
        "(1): Supervised\n",
        "(2): Labeled"
      ]
    },
    {
      "cell_type": "code",
      "execution_count": null,
      "id": "e277c9f5",
      "metadata": {
        "id": "e277c9f5"
      },
      "outputs": [],
      "source": []
    }
  ],
  "metadata": {
    "kernelspec": {
      "display_name": "Python 3 (ipykernel)",
      "language": "python",
      "name": "python3"
    },
    "language_info": {
      "codemirror_mode": {
        "name": "ipython",
        "version": 3
      },
      "file_extension": ".py",
      "mimetype": "text/x-python",
      "name": "python",
      "nbconvert_exporter": "python",
      "pygments_lexer": "ipython3",
      "version": "3.9.9"
    },
    "colab": {
      "provenance": []
    }
  },
  "nbformat": 4,
  "nbformat_minor": 5
}